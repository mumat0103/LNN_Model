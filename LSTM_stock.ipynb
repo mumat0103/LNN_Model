{
  "nbformat": 4,
  "nbformat_minor": 0,
  "metadata": {
    "colab": {
      "provenance": [],
      "gpuType": "T4"
    },
    "kernelspec": {
      "name": "python3",
      "display_name": "Python 3"
    },
    "language_info": {
      "name": "python"
    },
    "accelerator": "GPU"
  },
  "cells": [
    {
      "cell_type": "code",
      "source": [
        "pip install pykrx"
      ],
      "metadata": {
        "colab": {
          "base_uri": "https://localhost:8080/"
        },
        "id": "1WiR-Q5DE7Ee",
        "outputId": "1db9a76d-2da7-4331-ff7d-929483d16995"
      },
      "execution_count": 39,
      "outputs": [
        {
          "output_type": "stream",
          "name": "stdout",
          "text": [
            "Looking in indexes: https://pypi.org/simple, https://us-python.pkg.dev/colab-wheels/public/simple/\n",
            "Requirement already satisfied: pykrx in /usr/local/lib/python3.10/dist-packages (1.0.42)\n",
            "Requirement already satisfied: requests in /usr/local/lib/python3.10/dist-packages (from pykrx) (2.27.1)\n",
            "Requirement already satisfied: pandas in /usr/local/lib/python3.10/dist-packages (from pykrx) (1.5.3)\n",
            "Requirement already satisfied: datetime in /usr/local/lib/python3.10/dist-packages (from pykrx) (5.1)\n",
            "Requirement already satisfied: numpy in /usr/local/lib/python3.10/dist-packages (from pykrx) (1.22.4)\n",
            "Requirement already satisfied: xlrd in /usr/local/lib/python3.10/dist-packages (from pykrx) (2.0.1)\n",
            "Requirement already satisfied: deprecated in /usr/local/lib/python3.10/dist-packages (from pykrx) (1.2.14)\n",
            "Requirement already satisfied: multipledispatch in /usr/local/lib/python3.10/dist-packages (from pykrx) (0.6.0)\n",
            "Requirement already satisfied: matplotlib in /usr/local/lib/python3.10/dist-packages (from pykrx) (3.7.1)\n",
            "Requirement already satisfied: zope.interface in /usr/local/lib/python3.10/dist-packages (from datetime->pykrx) (6.0)\n",
            "Requirement already satisfied: pytz in /usr/local/lib/python3.10/dist-packages (from datetime->pykrx) (2022.7.1)\n",
            "Requirement already satisfied: wrapt<2,>=1.10 in /usr/local/lib/python3.10/dist-packages (from deprecated->pykrx) (1.14.1)\n",
            "Requirement already satisfied: contourpy>=1.0.1 in /usr/local/lib/python3.10/dist-packages (from matplotlib->pykrx) (1.0.7)\n",
            "Requirement already satisfied: cycler>=0.10 in /usr/local/lib/python3.10/dist-packages (from matplotlib->pykrx) (0.11.0)\n",
            "Requirement already satisfied: fonttools>=4.22.0 in /usr/local/lib/python3.10/dist-packages (from matplotlib->pykrx) (4.39.3)\n",
            "Requirement already satisfied: kiwisolver>=1.0.1 in /usr/local/lib/python3.10/dist-packages (from matplotlib->pykrx) (1.4.4)\n",
            "Requirement already satisfied: packaging>=20.0 in /usr/local/lib/python3.10/dist-packages (from matplotlib->pykrx) (23.1)\n",
            "Requirement already satisfied: pillow>=6.2.0 in /usr/local/lib/python3.10/dist-packages (from matplotlib->pykrx) (8.4.0)\n",
            "Requirement already satisfied: pyparsing>=2.3.1 in /usr/local/lib/python3.10/dist-packages (from matplotlib->pykrx) (3.0.9)\n",
            "Requirement already satisfied: python-dateutil>=2.7 in /usr/local/lib/python3.10/dist-packages (from matplotlib->pykrx) (2.8.2)\n",
            "Requirement already satisfied: six in /usr/local/lib/python3.10/dist-packages (from multipledispatch->pykrx) (1.16.0)\n",
            "Requirement already satisfied: urllib3<1.27,>=1.21.1 in /usr/local/lib/python3.10/dist-packages (from requests->pykrx) (1.26.15)\n",
            "Requirement already satisfied: certifi>=2017.4.17 in /usr/local/lib/python3.10/dist-packages (from requests->pykrx) (2022.12.7)\n",
            "Requirement already satisfied: charset-normalizer~=2.0.0 in /usr/local/lib/python3.10/dist-packages (from requests->pykrx) (2.0.12)\n",
            "Requirement already satisfied: idna<4,>=2.5 in /usr/local/lib/python3.10/dist-packages (from requests->pykrx) (3.4)\n",
            "Requirement already satisfied: setuptools in /usr/local/lib/python3.10/dist-packages (from zope.interface->datetime->pykrx) (67.7.2)\n"
          ]
        }
      ]
    },
    {
      "cell_type": "code",
      "execution_count": 40,
      "metadata": {
        "id": "HxRaUAYv7S8R"
      },
      "outputs": [],
      "source": [
        "import numpy as np\n",
        "import pandas as pd\n",
        "import matplotlib.pyplot as plt\n",
        "\n",
        "import datetime\n",
        "\n",
        "import torch\n",
        "import torch.nn as nn\n",
        "from torch.autograd import Variable \n",
        "\n",
        "import torch.optim as optim\n",
        "from torch.utils.data import Dataset, DataLoader"
      ]
    },
    {
      "cell_type": "code",
      "source": [
        "from pykrx import stock\n",
        "# 네이버 금융에서 카카오 주가를 가져오기\n",
        "data = stock.get_market_ohlcv_by_date(\"20100101\", \"20230526\", \"035720\") #2010.1.1 ~ 2023.05.26 까지 주가\n",
        "print(data)"
      ],
      "metadata": {
        "colab": {
          "base_uri": "https://localhost:8080/"
        },
        "id": "gutmRKa17sw-",
        "outputId": "a3242ea4-1345-4b23-c172-6deaa5a86841"
      },
      "execution_count": 41,
      "outputs": [
        {
          "output_type": "stream",
          "name": "stdout",
          "text": [
            "               시가     고가     저가     종가      거래량         거래대금   등락률\n",
            "날짜                                                                \n",
            "2010-01-04  70300  74200  69100  73400   158976  11508451400  4.41\n",
            "2010-01-05  73000  75300  72200  74000   124156   9196806000  0.82\n",
            "2010-01-06  74600  75200  73000  74300    72453   5383054600  0.41\n",
            "2010-01-07  74300  74800  72100  73400    99241   7260270100 -1.21\n",
            "2010-01-08  73500  73500  70100  72900   114818   8234546900 -0.68\n",
            "...           ...    ...    ...    ...      ...          ...   ...\n",
            "2023-05-22  57900  58100  57600  57900   985462  57068058200  0.00\n",
            "2023-05-23  58100  58200  57600  58000  1015317  58763734800  0.17\n",
            "2023-05-24  57500  57600  56700  56800  1258754  71754132400 -2.07\n",
            "2023-05-25  56600  57000  56300  56700  1177829  66732998100 -0.18\n",
            "2023-05-26  56400  57000  56400  56600   709988  40241580600 -0.18\n",
            "\n",
            "[3308 rows x 7 columns]\n"
          ]
        }
      ]
    },
    {
      "cell_type": "code",
      "source": [
        "# 필요 없는 column 삭제\n",
        "X = data.drop(columns=[\"거래량\",\"거래대금\", \"등락률\"])\n",
        "# Y 데이터로 종가 선택\n",
        "Y = data.iloc[:, 3:4]\n",
        "\n",
        "print(X)\n",
        "print(Y)"
      ],
      "metadata": {
        "colab": {
          "base_uri": "https://localhost:8080/"
        },
        "id": "V6dtMEJI-aSl",
        "outputId": "f81e9646-af90-46aa-af23-679c17063754"
      },
      "execution_count": 42,
      "outputs": [
        {
          "output_type": "stream",
          "name": "stdout",
          "text": [
            "               시가     고가     저가     종가\n",
            "날짜                                    \n",
            "2010-01-04  70300  74200  69100  73400\n",
            "2010-01-05  73000  75300  72200  74000\n",
            "2010-01-06  74600  75200  73000  74300\n",
            "2010-01-07  74300  74800  72100  73400\n",
            "2010-01-08  73500  73500  70100  72900\n",
            "...           ...    ...    ...    ...\n",
            "2023-05-22  57900  58100  57600  57900\n",
            "2023-05-23  58100  58200  57600  58000\n",
            "2023-05-24  57500  57600  56700  56800\n",
            "2023-05-25  56600  57000  56300  56700\n",
            "2023-05-26  56400  57000  56400  56600\n",
            "\n",
            "[3308 rows x 4 columns]\n",
            "               종가\n",
            "날짜               \n",
            "2010-01-04  73400\n",
            "2010-01-05  74000\n",
            "2010-01-06  74300\n",
            "2010-01-07  73400\n",
            "2010-01-08  72900\n",
            "...           ...\n",
            "2023-05-22  57900\n",
            "2023-05-23  58000\n",
            "2023-05-24  56800\n",
            "2023-05-25  56700\n",
            "2023-05-26  56600\n",
            "\n",
            "[3308 rows x 1 columns]\n"
          ]
        }
      ]
    },
    {
      "cell_type": "code",
      "source": [
        "X"
      ],
      "metadata": {
        "colab": {
          "base_uri": "https://localhost:8080/",
          "height": 455
        },
        "id": "XLewqrCD6Prn",
        "outputId": "b31c8e31-feb3-48fb-94f0-fec302363070"
      },
      "execution_count": 53,
      "outputs": [
        {
          "output_type": "execute_result",
          "data": {
            "text/plain": [
              "               시가     고가     저가     종가\n",
              "날짜                                    \n",
              "2010-01-04  70300  74200  69100  73400\n",
              "2010-01-05  73000  75300  72200  74000\n",
              "2010-01-06  74600  75200  73000  74300\n",
              "2010-01-07  74300  74800  72100  73400\n",
              "2010-01-08  73500  73500  70100  72900\n",
              "...           ...    ...    ...    ...\n",
              "2023-05-22  57900  58100  57600  57900\n",
              "2023-05-23  58100  58200  57600  58000\n",
              "2023-05-24  57500  57600  56700  56800\n",
              "2023-05-25  56600  57000  56300  56700\n",
              "2023-05-26  56400  57000  56400  56600\n",
              "\n",
              "[3308 rows x 4 columns]"
            ],
            "text/html": [
              "\n",
              "  <div id=\"df-fbc636a2-5b41-46ca-ba3c-eb78f957028c\">\n",
              "    <div class=\"colab-df-container\">\n",
              "      <div>\n",
              "<style scoped>\n",
              "    .dataframe tbody tr th:only-of-type {\n",
              "        vertical-align: middle;\n",
              "    }\n",
              "\n",
              "    .dataframe tbody tr th {\n",
              "        vertical-align: top;\n",
              "    }\n",
              "\n",
              "    .dataframe thead th {\n",
              "        text-align: right;\n",
              "    }\n",
              "</style>\n",
              "<table border=\"1\" class=\"dataframe\">\n",
              "  <thead>\n",
              "    <tr style=\"text-align: right;\">\n",
              "      <th></th>\n",
              "      <th>시가</th>\n",
              "      <th>고가</th>\n",
              "      <th>저가</th>\n",
              "      <th>종가</th>\n",
              "    </tr>\n",
              "    <tr>\n",
              "      <th>날짜</th>\n",
              "      <th></th>\n",
              "      <th></th>\n",
              "      <th></th>\n",
              "      <th></th>\n",
              "    </tr>\n",
              "  </thead>\n",
              "  <tbody>\n",
              "    <tr>\n",
              "      <th>2010-01-04</th>\n",
              "      <td>70300</td>\n",
              "      <td>74200</td>\n",
              "      <td>69100</td>\n",
              "      <td>73400</td>\n",
              "    </tr>\n",
              "    <tr>\n",
              "      <th>2010-01-05</th>\n",
              "      <td>73000</td>\n",
              "      <td>75300</td>\n",
              "      <td>72200</td>\n",
              "      <td>74000</td>\n",
              "    </tr>\n",
              "    <tr>\n",
              "      <th>2010-01-06</th>\n",
              "      <td>74600</td>\n",
              "      <td>75200</td>\n",
              "      <td>73000</td>\n",
              "      <td>74300</td>\n",
              "    </tr>\n",
              "    <tr>\n",
              "      <th>2010-01-07</th>\n",
              "      <td>74300</td>\n",
              "      <td>74800</td>\n",
              "      <td>72100</td>\n",
              "      <td>73400</td>\n",
              "    </tr>\n",
              "    <tr>\n",
              "      <th>2010-01-08</th>\n",
              "      <td>73500</td>\n",
              "      <td>73500</td>\n",
              "      <td>70100</td>\n",
              "      <td>72900</td>\n",
              "    </tr>\n",
              "    <tr>\n",
              "      <th>...</th>\n",
              "      <td>...</td>\n",
              "      <td>...</td>\n",
              "      <td>...</td>\n",
              "      <td>...</td>\n",
              "    </tr>\n",
              "    <tr>\n",
              "      <th>2023-05-22</th>\n",
              "      <td>57900</td>\n",
              "      <td>58100</td>\n",
              "      <td>57600</td>\n",
              "      <td>57900</td>\n",
              "    </tr>\n",
              "    <tr>\n",
              "      <th>2023-05-23</th>\n",
              "      <td>58100</td>\n",
              "      <td>58200</td>\n",
              "      <td>57600</td>\n",
              "      <td>58000</td>\n",
              "    </tr>\n",
              "    <tr>\n",
              "      <th>2023-05-24</th>\n",
              "      <td>57500</td>\n",
              "      <td>57600</td>\n",
              "      <td>56700</td>\n",
              "      <td>56800</td>\n",
              "    </tr>\n",
              "    <tr>\n",
              "      <th>2023-05-25</th>\n",
              "      <td>56600</td>\n",
              "      <td>57000</td>\n",
              "      <td>56300</td>\n",
              "      <td>56700</td>\n",
              "    </tr>\n",
              "    <tr>\n",
              "      <th>2023-05-26</th>\n",
              "      <td>56400</td>\n",
              "      <td>57000</td>\n",
              "      <td>56400</td>\n",
              "      <td>56600</td>\n",
              "    </tr>\n",
              "  </tbody>\n",
              "</table>\n",
              "<p>3308 rows × 4 columns</p>\n",
              "</div>\n",
              "      <button class=\"colab-df-convert\" onclick=\"convertToInteractive('df-fbc636a2-5b41-46ca-ba3c-eb78f957028c')\"\n",
              "              title=\"Convert this dataframe to an interactive table.\"\n",
              "              style=\"display:none;\">\n",
              "        \n",
              "  <svg xmlns=\"http://www.w3.org/2000/svg\" height=\"24px\"viewBox=\"0 0 24 24\"\n",
              "       width=\"24px\">\n",
              "    <path d=\"M0 0h24v24H0V0z\" fill=\"none\"/>\n",
              "    <path d=\"M18.56 5.44l.94 2.06.94-2.06 2.06-.94-2.06-.94-.94-2.06-.94 2.06-2.06.94zm-11 1L8.5 8.5l.94-2.06 2.06-.94-2.06-.94L8.5 2.5l-.94 2.06-2.06.94zm10 10l.94 2.06.94-2.06 2.06-.94-2.06-.94-.94-2.06-.94 2.06-2.06.94z\"/><path d=\"M17.41 7.96l-1.37-1.37c-.4-.4-.92-.59-1.43-.59-.52 0-1.04.2-1.43.59L10.3 9.45l-7.72 7.72c-.78.78-.78 2.05 0 2.83L4 21.41c.39.39.9.59 1.41.59.51 0 1.02-.2 1.41-.59l7.78-7.78 2.81-2.81c.8-.78.8-2.07 0-2.86zM5.41 20L4 18.59l7.72-7.72 1.47 1.35L5.41 20z\"/>\n",
              "  </svg>\n",
              "      </button>\n",
              "      \n",
              "  <style>\n",
              "    .colab-df-container {\n",
              "      display:flex;\n",
              "      flex-wrap:wrap;\n",
              "      gap: 12px;\n",
              "    }\n",
              "\n",
              "    .colab-df-convert {\n",
              "      background-color: #E8F0FE;\n",
              "      border: none;\n",
              "      border-radius: 50%;\n",
              "      cursor: pointer;\n",
              "      display: none;\n",
              "      fill: #1967D2;\n",
              "      height: 32px;\n",
              "      padding: 0 0 0 0;\n",
              "      width: 32px;\n",
              "    }\n",
              "\n",
              "    .colab-df-convert:hover {\n",
              "      background-color: #E2EBFA;\n",
              "      box-shadow: 0px 1px 2px rgba(60, 64, 67, 0.3), 0px 1px 3px 1px rgba(60, 64, 67, 0.15);\n",
              "      fill: #174EA6;\n",
              "    }\n",
              "\n",
              "    [theme=dark] .colab-df-convert {\n",
              "      background-color: #3B4455;\n",
              "      fill: #D2E3FC;\n",
              "    }\n",
              "\n",
              "    [theme=dark] .colab-df-convert:hover {\n",
              "      background-color: #434B5C;\n",
              "      box-shadow: 0px 1px 3px 1px rgba(0, 0, 0, 0.15);\n",
              "      filter: drop-shadow(0px 1px 2px rgba(0, 0, 0, 0.3));\n",
              "      fill: #FFFFFF;\n",
              "    }\n",
              "  </style>\n",
              "\n",
              "      <script>\n",
              "        const buttonEl =\n",
              "          document.querySelector('#df-fbc636a2-5b41-46ca-ba3c-eb78f957028c button.colab-df-convert');\n",
              "        buttonEl.style.display =\n",
              "          google.colab.kernel.accessAllowed ? 'block' : 'none';\n",
              "\n",
              "        async function convertToInteractive(key) {\n",
              "          const element = document.querySelector('#df-fbc636a2-5b41-46ca-ba3c-eb78f957028c');\n",
              "          const dataTable =\n",
              "            await google.colab.kernel.invokeFunction('convertToInteractive',\n",
              "                                                     [key], {});\n",
              "          if (!dataTable) return;\n",
              "\n",
              "          const docLinkHtml = 'Like what you see? Visit the ' +\n",
              "            '<a target=\"_blank\" href=https://colab.research.google.com/notebooks/data_table.ipynb>data table notebook</a>'\n",
              "            + ' to learn more about interactive tables.';\n",
              "          element.innerHTML = '';\n",
              "          dataTable['output_type'] = 'display_data';\n",
              "          await google.colab.output.renderOutput(dataTable, element);\n",
              "          const docLink = document.createElement('div');\n",
              "          docLink.innerHTML = docLinkHtml;\n",
              "          element.appendChild(docLink);\n",
              "        }\n",
              "      </script>\n",
              "    </div>\n",
              "  </div>\n",
              "  "
            ]
          },
          "metadata": {},
          "execution_count": 53
        }
      ]
    },
    {
      "cell_type": "code",
      "source": [
        "\"\"\"\n",
        "학습이 잘되기 위해 데이터 정규화 \n",
        "MinMaxScaler\t최대/최소값이 각각 1, 0이 되도록 변경\n",
        "StandardScaler\t각 특징의 평균을 0, 분산을 1이 되도록 변경\n",
        "\"\"\"\n",
        "\n",
        "from sklearn.preprocessing import StandardScaler, MinMaxScaler\n",
        "from sklearn.metrics import accuracy_score\n",
        "mm = MinMaxScaler()\n",
        "ss = StandardScaler()\n",
        "\n",
        "X_ss = ss.fit_transform(X)\n",
        "Y_mm = mm.fit_transform(Y) \n",
        "\"\"\"\n",
        "학습 데이터는 3308개의 데이터 중에서 70%(2315개)를 사용\n",
        "테스트 데이터는 나머지 30%를 사용\n",
        "\"\"\"\n",
        "X_train = X_ss[:2315, :]\n",
        "X_test = X_ss[2315:, :]\n",
        "\n",
        "Y_train = Y_mm[:2315, :]\n",
        "Y_test = Y_mm[2315:, :] \n",
        "\n",
        "print(\"Training Shape\", X_train.shape, Y_train.shape)\n",
        "print(\"Testing Shape\", X_test.shape, Y_test.shape) "
      ],
      "metadata": {
        "colab": {
          "base_uri": "https://localhost:8080/",
          "height": 400
        },
        "id": "JQBeiOVgLlH1",
        "outputId": "e1b0709e-bbd5-468b-a2e0-40cfafbae6bf"
      },
      "execution_count": 55,
      "outputs": [
        {
          "output_type": "error",
          "ename": "ValueError",
          "evalue": "ignored",
          "traceback": [
            "\u001b[0;31m---------------------------------------------------------------------------\u001b[0m",
            "\u001b[0;31mValueError\u001b[0m                                Traceback (most recent call last)",
            "\u001b[0;32m<ipython-input-55-8fcf591e00d2>\u001b[0m in \u001b[0;36m<cell line: 21>\u001b[0;34m()\u001b[0m\n\u001b[1;32m     19\u001b[0m \u001b[0mX_test\u001b[0m \u001b[0;34m=\u001b[0m \u001b[0mX_ss\u001b[0m\u001b[0;34m[\u001b[0m\u001b[0;36m2315\u001b[0m\u001b[0;34m:\u001b[0m\u001b[0;34m,\u001b[0m \u001b[0;34m:\u001b[0m\u001b[0;34m]\u001b[0m\u001b[0;34m\u001b[0m\u001b[0;34m\u001b[0m\u001b[0m\n\u001b[1;32m     20\u001b[0m \u001b[0;34m\u001b[0m\u001b[0m\n\u001b[0;32m---> 21\u001b[0;31m \u001b[0mprint\u001b[0m\u001b[0;34m(\u001b[0m\u001b[0maccuracy_score\u001b[0m\u001b[0;34m(\u001b[0m\u001b[0mX_train\u001b[0m\u001b[0;34m,\u001b[0m \u001b[0mY_train\u001b[0m\u001b[0;34m)\u001b[0m\u001b[0;34m)\u001b[0m\u001b[0;34m\u001b[0m\u001b[0;34m\u001b[0m\u001b[0m\n\u001b[0m\u001b[1;32m     22\u001b[0m \u001b[0mY_train\u001b[0m \u001b[0;34m=\u001b[0m \u001b[0mY_mm\u001b[0m\u001b[0;34m[\u001b[0m\u001b[0;34m:\u001b[0m\u001b[0;36m2315\u001b[0m\u001b[0;34m,\u001b[0m \u001b[0;34m:\u001b[0m\u001b[0;34m]\u001b[0m\u001b[0;34m\u001b[0m\u001b[0;34m\u001b[0m\u001b[0m\n\u001b[1;32m     23\u001b[0m \u001b[0mY_test\u001b[0m \u001b[0;34m=\u001b[0m \u001b[0mY_mm\u001b[0m\u001b[0;34m[\u001b[0m\u001b[0;36m2315\u001b[0m\u001b[0;34m:\u001b[0m\u001b[0;34m,\u001b[0m \u001b[0;34m:\u001b[0m\u001b[0;34m]\u001b[0m\u001b[0;34m\u001b[0m\u001b[0;34m\u001b[0m\u001b[0m\n",
            "\u001b[0;32m/usr/local/lib/python3.10/dist-packages/sklearn/utils/_param_validation.py\u001b[0m in \u001b[0;36mwrapper\u001b[0;34m(*args, **kwargs)\u001b[0m\n\u001b[1;32m    190\u001b[0m \u001b[0;34m\u001b[0m\u001b[0m\n\u001b[1;32m    191\u001b[0m             \u001b[0;32mtry\u001b[0m\u001b[0;34m:\u001b[0m\u001b[0;34m\u001b[0m\u001b[0;34m\u001b[0m\u001b[0m\n\u001b[0;32m--> 192\u001b[0;31m                 \u001b[0;32mreturn\u001b[0m \u001b[0mfunc\u001b[0m\u001b[0;34m(\u001b[0m\u001b[0;34m*\u001b[0m\u001b[0margs\u001b[0m\u001b[0;34m,\u001b[0m \u001b[0;34m**\u001b[0m\u001b[0mkwargs\u001b[0m\u001b[0;34m)\u001b[0m\u001b[0;34m\u001b[0m\u001b[0;34m\u001b[0m\u001b[0m\n\u001b[0m\u001b[1;32m    193\u001b[0m             \u001b[0;32mexcept\u001b[0m \u001b[0mInvalidParameterError\u001b[0m \u001b[0;32mas\u001b[0m \u001b[0me\u001b[0m\u001b[0;34m:\u001b[0m\u001b[0;34m\u001b[0m\u001b[0;34m\u001b[0m\u001b[0m\n\u001b[1;32m    194\u001b[0m                 \u001b[0;31m# When the function is just a wrapper around an estimator, we allow\u001b[0m\u001b[0;34m\u001b[0m\u001b[0;34m\u001b[0m\u001b[0m\n",
            "\u001b[0;32m/usr/local/lib/python3.10/dist-packages/sklearn/metrics/_classification.py\u001b[0m in \u001b[0;36maccuracy_score\u001b[0;34m(y_true, y_pred, normalize, sample_weight)\u001b[0m\n\u001b[1;32m    219\u001b[0m \u001b[0;34m\u001b[0m\u001b[0m\n\u001b[1;32m    220\u001b[0m     \u001b[0;31m# Compute accuracy for each possible representation\u001b[0m\u001b[0;34m\u001b[0m\u001b[0;34m\u001b[0m\u001b[0m\n\u001b[0;32m--> 221\u001b[0;31m     \u001b[0my_type\u001b[0m\u001b[0;34m,\u001b[0m \u001b[0my_true\u001b[0m\u001b[0;34m,\u001b[0m \u001b[0my_pred\u001b[0m \u001b[0;34m=\u001b[0m \u001b[0m_check_targets\u001b[0m\u001b[0;34m(\u001b[0m\u001b[0my_true\u001b[0m\u001b[0;34m,\u001b[0m \u001b[0my_pred\u001b[0m\u001b[0;34m)\u001b[0m\u001b[0;34m\u001b[0m\u001b[0;34m\u001b[0m\u001b[0m\n\u001b[0m\u001b[1;32m    222\u001b[0m     \u001b[0mcheck_consistent_length\u001b[0m\u001b[0;34m(\u001b[0m\u001b[0my_true\u001b[0m\u001b[0;34m,\u001b[0m \u001b[0my_pred\u001b[0m\u001b[0;34m,\u001b[0m \u001b[0msample_weight\u001b[0m\u001b[0;34m)\u001b[0m\u001b[0;34m\u001b[0m\u001b[0;34m\u001b[0m\u001b[0m\n\u001b[1;32m    223\u001b[0m     \u001b[0;32mif\u001b[0m \u001b[0my_type\u001b[0m\u001b[0;34m.\u001b[0m\u001b[0mstartswith\u001b[0m\u001b[0;34m(\u001b[0m\u001b[0;34m\"multilabel\"\u001b[0m\u001b[0;34m)\u001b[0m\u001b[0;34m:\u001b[0m\u001b[0;34m\u001b[0m\u001b[0;34m\u001b[0m\u001b[0m\n",
            "\u001b[0;32m/usr/local/lib/python3.10/dist-packages/sklearn/metrics/_classification.py\u001b[0m in \u001b[0;36m_check_targets\u001b[0;34m(y_true, y_pred)\u001b[0m\n\u001b[1;32m     93\u001b[0m \u001b[0;34m\u001b[0m\u001b[0m\n\u001b[1;32m     94\u001b[0m     \u001b[0;32mif\u001b[0m \u001b[0mlen\u001b[0m\u001b[0;34m(\u001b[0m\u001b[0my_type\u001b[0m\u001b[0;34m)\u001b[0m \u001b[0;34m>\u001b[0m \u001b[0;36m1\u001b[0m\u001b[0;34m:\u001b[0m\u001b[0;34m\u001b[0m\u001b[0;34m\u001b[0m\u001b[0m\n\u001b[0;32m---> 95\u001b[0;31m         raise ValueError(\n\u001b[0m\u001b[1;32m     96\u001b[0m             \"Classification metrics can't handle a mix of {0} and {1} targets\".format(\n\u001b[1;32m     97\u001b[0m                 \u001b[0mtype_true\u001b[0m\u001b[0;34m,\u001b[0m \u001b[0mtype_pred\u001b[0m\u001b[0;34m\u001b[0m\u001b[0;34m\u001b[0m\u001b[0m\n",
            "\u001b[0;31mValueError\u001b[0m: Classification metrics can't handle a mix of continuous-multioutput and continuous targets"
          ]
        }
      ]
    },
    {
      "cell_type": "code",
      "source": [
        "\"\"\"\n",
        "데이터를 Tensor로 바꾸고, Variable로 감싸줌\n",
        "\"\"\"\n",
        "X_train_tensors = Variable(torch.Tensor(X_train))\n",
        "X_test_tensors = Variable(torch.Tensor(X_test))\n",
        "\n",
        "Y_train_tensors = Variable(torch.Tensor(Y_train))\n",
        "Y_test_tensors = Variable(torch.Tensor(Y_test))\n",
        "\n",
        "X_train_tensors_final = torch.reshape(X_train_tensors,   (X_train_tensors.shape[0], 1, X_train_tensors.shape[1]))\n",
        "X_test_tensors_final = torch.reshape(X_test_tensors,  (X_test_tensors.shape[0], 1, X_test_tensors.shape[1])) \n",
        "\n",
        "print(\"Training Shape\", X_train_tensors_final.shape, Y_train_tensors.shape)\n",
        "print(\"Testing Shape\", X_test_tensors_final.shape, Y_test_tensors.shape) "
      ],
      "metadata": {
        "colab": {
          "base_uri": "https://localhost:8080/"
        },
        "id": "A3axCqyXMKcA",
        "outputId": "6ba8f51a-ab1a-4ed4-a12e-ee5e0ece3bc1"
      },
      "execution_count": 44,
      "outputs": [
        {
          "output_type": "stream",
          "name": "stdout",
          "text": [
            "Training Shape torch.Size([2315, 1, 4]) torch.Size([2315, 1])\n",
            "Testing Shape torch.Size([993, 1, 4]) torch.Size([993, 1])\n"
          ]
        }
      ]
    },
    {
      "cell_type": "code",
      "source": [
        "# GPU 사용 설정\n",
        "device = torch.device(\"cuda:0\" if torch.cuda.is_available() else \"cpu\") \n",
        "print(torch.cuda.get_device_name(0))"
      ],
      "metadata": {
        "colab": {
          "base_uri": "https://localhost:8080/"
        },
        "id": "3ViC4XHnMXG0",
        "outputId": "63426468-4953-4187-a6a5-26e7e5bea204"
      },
      "execution_count": 45,
      "outputs": [
        {
          "output_type": "stream",
          "name": "stdout",
          "text": [
            "Tesla T4\n"
          ]
        }
      ]
    },
    {
      "cell_type": "code",
      "source": [
        "class LSTM(nn.Module):\n",
        "  def __init__(self, num_classes, input_size, hidden_size, num_layers, seq_length):\n",
        "    super(LSTM, self).__init__()\n",
        "    self.num_classes  = num_classes \n",
        "    self.num_layers   = num_layers \n",
        "    self.input_size   = input_size \n",
        "    self.hidden_size  = hidden_size \n",
        "    self.seq_length   = seq_length \n",
        "  \n",
        "    # LSTM 모델 정의\n",
        "    self.lstm = nn.LSTM(input_size=input_size, hidden_size=hidden_size,\n",
        "                      num_layers=num_layers, batch_first=True)\n",
        "    self.fc_1 = nn.Linear(hidden_size, 128)\n",
        "    self.fc   = nn.Linear(128, num_classes)\n",
        "\n",
        "    self.relu = nn.ReLU() \n",
        "\n",
        "  def forward(self,x):\n",
        "    h_0 = Variable(torch.zeros(self.num_layers, x.size(0), self.hidden_size)).to(device) # 은닉 상태 초기화\n",
        "    c_0 = Variable(torch.zeros(self.num_layers, x.size(0), self.hidden_size)).to(device) # 초기 셀 초기화\n",
        "    \n",
        "    output, (hn, cn) = self.lstm(x, (h_0, c_0)) \n",
        "   \n",
        "    hn  = hn.view(-1, self.hidden_size)\n",
        "    out = self.relu(hn)\n",
        "    out = self.fc_1(out)\n",
        "    out = self.relu(out) # 선형 데이터를 비선형 데이터로 변경\n",
        "    out = self.fc(out)\n",
        "   \n",
        "    return out "
      ],
      "metadata": {
        "id": "oMO9vvv_M6Jo"
      },
      "execution_count": 46,
      "outputs": []
    },
    {
      "cell_type": "code",
      "source": [
        "num_epochs    = 30000\n",
        "learning_rate = 0.00001\n",
        "\n",
        "input_size  = 4 # 시가 고가 저가 종가 라서 4\n",
        "hidden_size = 2\n",
        "num_layers  = 1 \n",
        "\n",
        "num_classes = 1\n"
      ],
      "metadata": {
        "id": "fBBeOCEnNGJz"
      },
      "execution_count": 47,
      "outputs": []
    },
    {
      "cell_type": "code",
      "source": [
        "lstm = LSTM(num_classes, input_size, hidden_size, num_layers, X_train_tensors_final.shape[1]).to(device)\n",
        "\n",
        "loss_function = torch.nn.MSELoss()\n",
        "optimizer     = torch.optim.Adam(lstm.parameters(), lr=learning_rate)\n",
        "\n",
        "lstm"
      ],
      "metadata": {
        "id": "QbhjulzyNI_0",
        "colab": {
          "base_uri": "https://localhost:8080/"
        },
        "outputId": "80cb67b7-7dc5-4a9c-a68c-2918b615af1a"
      },
      "execution_count": 56,
      "outputs": [
        {
          "output_type": "execute_result",
          "data": {
            "text/plain": [
              "LSTM(\n",
              "  (lstm): LSTM(4, 2, batch_first=True)\n",
              "  (fc_1): Linear(in_features=2, out_features=128, bias=True)\n",
              "  (fc): Linear(in_features=128, out_features=1, bias=True)\n",
              "  (relu): ReLU()\n",
              ")"
            ]
          },
          "metadata": {},
          "execution_count": 56
        }
      ]
    },
    {
      "cell_type": "code",
      "source": [
        "# 학습\n",
        "for epoch in range(num_epochs):\n",
        "  outputs = lstm.forward(X_train_tensors_final.to(device))\n",
        "  optimizer.zero_grad()\n",
        "\n",
        "  loss = loss_function(outputs, Y_train_tensors.to(device))\n",
        "\n",
        "  loss.backward()\n",
        " \n",
        "  optimizer.step()\n",
        "  if epoch % 1000 == 0:\n",
        "    print(\"Epoch: %d, loss: %1.5f\" % (epoch, loss.item())) "
      ],
      "metadata": {
        "id": "jRMSHJAyNZIc",
        "colab": {
          "base_uri": "https://localhost:8080/"
        },
        "outputId": "3eccdf8c-daa1-46c0-b5a4-c017d3da1439"
      },
      "execution_count": 57,
      "outputs": [
        {
          "output_type": "stream",
          "name": "stdout",
          "text": [
            "Epoch: 0, loss: 0.33588\n",
            "Epoch: 1000, loss: 0.11903\n",
            "Epoch: 2000, loss: 0.04081\n",
            "Epoch: 3000, loss: 0.02373\n",
            "Epoch: 4000, loss: 0.02040\n",
            "Epoch: 5000, loss: 0.01694\n",
            "Epoch: 6000, loss: 0.01271\n",
            "Epoch: 7000, loss: 0.00854\n",
            "Epoch: 8000, loss: 0.00526\n",
            "Epoch: 9000, loss: 0.00319\n",
            "Epoch: 10000, loss: 0.00207\n",
            "Epoch: 11000, loss: 0.00148\n",
            "Epoch: 12000, loss: 0.00119\n",
            "Epoch: 13000, loss: 0.00105\n",
            "Epoch: 14000, loss: 0.00096\n",
            "Epoch: 15000, loss: 0.00089\n",
            "Epoch: 16000, loss: 0.00083\n",
            "Epoch: 17000, loss: 0.00077\n",
            "Epoch: 18000, loss: 0.00072\n",
            "Epoch: 19000, loss: 0.00067\n",
            "Epoch: 20000, loss: 0.00062\n",
            "Epoch: 21000, loss: 0.00057\n",
            "Epoch: 22000, loss: 0.00053\n",
            "Epoch: 23000, loss: 0.00049\n",
            "Epoch: 24000, loss: 0.00045\n",
            "Epoch: 25000, loss: 0.00041\n",
            "Epoch: 26000, loss: 0.00037\n",
            "Epoch: 27000, loss: 0.00033\n",
            "Epoch: 28000, loss: 0.00029\n",
            "Epoch: 29000, loss: 0.00026\n"
          ]
        }
      ]
    },
    {
      "cell_type": "markdown",
      "source": [
        "예측하기"
      ],
      "metadata": {
        "id": "JYgs2tLHXl0D"
      }
    },
    {
      "cell_type": "code",
      "source": [
        "df_X_ss = ss.transform(data.drop(columns=[\"거래량\",\"거래대금\", \"등락률\"]))\n",
        "df_Y_mm = mm.transform(data.iloc[:, 3:4])\n",
        "\n",
        "# 텐서로 변환\n",
        "df_X_ss = Variable(torch.Tensor(df_X_ss)) \n",
        "df_Y_mm = Variable(torch.Tensor(df_Y_mm))\n",
        "\n",
        "df_X_ss = torch.reshape(df_X_ss, (df_X_ss.shape[0], 1, df_X_ss.shape[1]))"
      ],
      "metadata": {
        "id": "xtjV1dTeNu8u"
      },
      "execution_count": 50,
      "outputs": []
    },
    {
      "cell_type": "code",
      "source": [
        "train_predict = lstm(df_X_ss.to(device))\n",
        "data_predict  = train_predict.data.detach().cpu().numpy() # 예측값\n",
        "dataY_plot    = df_Y_mm.data.numpy() # 실제값\n",
        "\n",
        "print(dataY_plot)\n",
        "print(data_predict)\n",
        "\n",
        "data_predict  = mm.inverse_transform(data_predict)\n",
        "dataY_plot    = mm.inverse_transform(dataY_plot)\n",
        "\n",
        "plt.figure(figsize=(10,6))\n",
        "plt.axvline(x=2315, c='r', linestyle='--') # 2315 = 훈련 데이터의 수\n",
        "\n",
        "plt.plot(dataY_plot, label='real')\n",
        "plt.plot(data_predict, label='predict')\n",
        "plt.title('Kakao Stock Prediction')\n",
        "plt.legend()\n",
        "plt.show()"
      ],
      "metadata": {
        "colab": {
          "base_uri": "https://localhost:8080/",
          "height": 637
        },
        "id": "xHyx4JZDN8xo",
        "outputId": "6f5c61c0-694a-474a-a83a-94951fc22d59"
      },
      "execution_count": 51,
      "outputs": [
        {
          "output_type": "stream",
          "name": "stderr",
          "text": [
            "WARNING:matplotlib.font_manager:findfont: Font family 'NanumBarunGothic' not found.\n",
            "WARNING:matplotlib.font_manager:findfont: Font family 'NanumBarunGothic' not found.\n",
            "WARNING:matplotlib.font_manager:findfont: Font family 'NanumBarunGothic' not found.\n",
            "WARNING:matplotlib.font_manager:findfont: Font family 'NanumBarunGothic' not found.\n",
            "WARNING:matplotlib.font_manager:findfont: Font family 'NanumBarunGothic' not found.\n"
          ]
        },
        {
          "output_type": "display_data",
          "data": {
            "text/plain": [
              "<Figure size 1000x600 with 1 Axes>"
            ],
            "image/png": "[encoded data removed]"
          },
          "metadata": {}
        }
      ]
    }
  ]
}